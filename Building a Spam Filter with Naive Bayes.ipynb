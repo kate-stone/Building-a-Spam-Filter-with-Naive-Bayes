{
 "cells": [
  {
   "cell_type": "markdown",
   "metadata": {},
   "source": [
    "# Building a Spam Filter with Naive Bayes\n",
    "\n",
    "Most people, including myself, take for granted the usefulness of the spam filter on their email inboxes. It saves us alot of time and hassel sorting through junk, and protects us from harmful content.\n",
    "\n",
    "The objective of this project is to develop a similar filter for the SMS messages received on our mobile devices. To do that we'll \"teach\" the computer to classify messages as spam or not spam using the multinomial Naive Bayes algorithm along with a dataset of 5572 SMS messages that are already classified by humans. \n",
    "\n",
    "The dataset was put together by Tiago A. Almeida and José María Gómez Hidalgo, and it can be downloaded from the [The UCI Machine Learning Repository](https://archive.ics.uci.edu/ml/datasets/sms+spam+collection).\n",
    "\n",
    "Let's start by reading in the dataset."
   ]
  },
  {
   "cell_type": "code",
   "execution_count": 1,
   "metadata": {},
   "outputs": [
    {
     "data": {
      "text/plain": [
       "(5572, 2)"
      ]
     },
     "execution_count": 1,
     "metadata": {},
     "output_type": "execute_result"
    }
   ],
   "source": [
    "# Import Pandas\n",
    "import pandas as pd\n",
    "# Read in dataset\n",
    "sms = pd.read_csv(\"/Users/katestone/Downloads/SMSSpamCollection\", header=None, names=[\"Label\", \"SMS\"], sep=\"\\t\")\n",
    "# Print rows and columns\n",
    "sms.shape"
   ]
  },
  {
   "cell_type": "code",
   "execution_count": 2,
   "metadata": {},
   "outputs": [
    {
     "data": {
      "text/plain": [
       "ham     86.593683\n",
       "spam    13.406317\n",
       "Name: Label, dtype: float64"
      ]
     },
     "execution_count": 2,
     "metadata": {},
     "output_type": "execute_result"
    }
   ],
   "source": [
    "# Distribution spam vs non-spam\n",
    "sms[\"Label\"].value_counts(normalize=True)*100"
   ]
  },
  {
   "cell_type": "markdown",
   "metadata": {},
   "source": [
    "We see above that of the 5572 SMS messages in the dataset, 13.4% have been classified by humans as spam. \n",
    "\n",
    "# Break the Data into Training and Test Sets\n",
    "\n",
    "Before creating the spam filter we need to set aside some of the data which we will use to test how accurately it classifies messages. We'll split the dataset as follows:\n",
    "- A training set, which we'll use to \"train\" the computer how to classify messages. This will comprise 80% of the dataset (4458 entries);\n",
    "- A test set, which we'll use to test how good the spam filter is with classifying new messages. This will comprise 20% of the dataset (1114 entries). \n",
    "\n",
    "Once we've developed the spam filter we'll compare the algorithm classification with that done by a human using the test set. Our goal is for the algorithm to accurately classify messages atleast 80% of the time. Therefore if the algorithm classification agrees with the human classification on atleast 80% of the 1114 messages in the test set, we'll know that we've met our goal. "
   ]
  },
  {
   "cell_type": "code",
   "execution_count": 3,
   "metadata": {},
   "outputs": [
    {
     "name": "stdout",
     "output_type": "stream",
     "text": [
      "(4458, 2)\n",
      "(1114, 2)\n"
     ]
    }
   ],
   "source": [
    "# Randomise entire dataset\n",
    "sms_random = sms.sample(frac=1, random_state=1)\n",
    "# Calculate index for split\n",
    "sms_training_test_index = round(len(sms_random)*0.80)\n",
    "# Create training set with 80% of data\n",
    "sms_training = sms_random[:sms_training_test_index].reset_index(drop=True)\n",
    "# Create test set with 20% of data\n",
    "sms_test = sms_random[sms_training_test_index:].reset_index(drop=True)\n",
    "print(sms_training.shape)\n",
    "print(sms_test.shape)"
   ]
  },
  {
   "cell_type": "code",
   "execution_count": 4,
   "metadata": {},
   "outputs": [
    {
     "data": {
      "text/plain": [
       "ham     86.54105\n",
       "spam    13.45895\n",
       "Name: Label, dtype: float64"
      ]
     },
     "execution_count": 4,
     "metadata": {},
     "output_type": "execute_result"
    }
   ],
   "source": [
    "# Check distribution of spam vs non-spam in training set\n",
    "sms_training[\"Label\"].value_counts(normalize=True)*100"
   ]
  },
  {
   "cell_type": "code",
   "execution_count": 5,
   "metadata": {},
   "outputs": [
    {
     "data": {
      "text/plain": [
       "ham     86.804309\n",
       "spam    13.195691\n",
       "Name: Label, dtype: float64"
      ]
     },
     "execution_count": 5,
     "metadata": {},
     "output_type": "execute_result"
    }
   ],
   "source": [
    "# Check distribution of spam vs non-spam in test set\n",
    "sms_test[\"Label\"].value_counts(normalize=True)*100"
   ]
  },
  {
   "cell_type": "markdown",
   "metadata": {},
   "source": [
    "We can see that the percentages of spam and non-spam in each new dataset are pretty similar to what we have in the full dataset. \n",
    "# Clean the Datasets\n",
    "\n",
    "To apply to the Naive Bayes algorithm to the SMS messages we need to clean and transform the data. Lets start by removing punctuation and bringing all of the words to lower case."
   ]
  },
  {
   "cell_type": "code",
   "execution_count": 6,
   "metadata": {},
   "outputs": [
    {
     "data": {
      "text/html": [
       "<div>\n",
       "<style scoped>\n",
       "    .dataframe tbody tr th:only-of-type {\n",
       "        vertical-align: middle;\n",
       "    }\n",
       "\n",
       "    .dataframe tbody tr th {\n",
       "        vertical-align: top;\n",
       "    }\n",
       "\n",
       "    .dataframe thead th {\n",
       "        text-align: right;\n",
       "    }\n",
       "</style>\n",
       "<table border=\"1\" class=\"dataframe\">\n",
       "  <thead>\n",
       "    <tr style=\"text-align: right;\">\n",
       "      <th></th>\n",
       "      <th>Label</th>\n",
       "      <th>SMS</th>\n",
       "    </tr>\n",
       "  </thead>\n",
       "  <tbody>\n",
       "    <tr>\n",
       "      <td>0</td>\n",
       "      <td>ham</td>\n",
       "      <td>yep  by the pretty sculpture</td>\n",
       "    </tr>\n",
       "    <tr>\n",
       "      <td>1</td>\n",
       "      <td>ham</td>\n",
       "      <td>yes  princess  are you going to make me moan</td>\n",
       "    </tr>\n",
       "    <tr>\n",
       "      <td>2</td>\n",
       "      <td>ham</td>\n",
       "      <td>welp apparently he retired</td>\n",
       "    </tr>\n",
       "    <tr>\n",
       "      <td>3</td>\n",
       "      <td>ham</td>\n",
       "      <td>havent</td>\n",
       "    </tr>\n",
       "    <tr>\n",
       "      <td>4</td>\n",
       "      <td>ham</td>\n",
       "      <td>i forgot 2 ask ü all smth   there s a card on ...</td>\n",
       "    </tr>\n",
       "  </tbody>\n",
       "</table>\n",
       "</div>"
      ],
      "text/plain": [
       "  Label                                                SMS\n",
       "0   ham                       yep  by the pretty sculpture\n",
       "1   ham      yes  princess  are you going to make me moan \n",
       "2   ham                         welp apparently he retired\n",
       "3   ham                                            havent \n",
       "4   ham  i forgot 2 ask ü all smth   there s a card on ..."
      ]
     },
     "execution_count": 6,
     "metadata": {},
     "output_type": "execute_result"
    }
   ],
   "source": [
    "# Remove all punctuation from the SMS column\n",
    "sms_training[\"SMS\"] = sms_training[\"SMS\"].str.replace(\"\\W\",\" \")\n",
    "# Transform all letters to lower case\n",
    "sms_training[\"SMS\"] = sms_training[\"SMS\"].str.lower()\n",
    "# Check Transformation\n",
    "sms_training.head()"
   ]
  },
  {
   "cell_type": "markdown",
   "metadata": {},
   "source": [
    "# Create Vocabulary of Unique Words\n",
    "\n",
    "The next step will be to create a python list of all the unique words used across all messages. We call this list a \"vocabulary\". "
   ]
  },
  {
   "cell_type": "code",
   "execution_count": 7,
   "metadata": {},
   "outputs": [],
   "source": [
    "# Transform each message from the SMS column into a list\n",
    "sms_training[\"SMS\"] = sms_training[\"SMS\"].str.split()"
   ]
  },
  {
   "cell_type": "code",
   "execution_count": 8,
   "metadata": {},
   "outputs": [],
   "source": [
    "# Create empty list\n",
    "vocabulary = []\n",
    "# Iterate of SMS column to extract unique words\n",
    "for sms in sms_training[\"SMS\"]:\n",
    "    for string in sms:\n",
    "        vocabulary.append(string)\n",
    "# Transform vocabulary list into set to remove duplicates\n",
    "vocab_set = set(vocabulary)\n",
    "# Tranform back to list\n",
    "vocabulary = list(vocab_set)"
   ]
  },
  {
   "cell_type": "code",
   "execution_count": 9,
   "metadata": {},
   "outputs": [
    {
     "data": {
      "text/plain": [
       "7783"
      ]
     },
     "execution_count": 9,
     "metadata": {},
     "output_type": "execute_result"
    }
   ],
   "source": [
    "len(vocabulary)"
   ]
  },
  {
   "cell_type": "markdown",
   "metadata": {},
   "source": [
    "# Create the Final Training Set\n",
    "\n",
    "We'll now use the vocabulary above to create the data transformation we want."
   ]
  },
  {
   "cell_type": "code",
   "execution_count": 10,
   "metadata": {},
   "outputs": [],
   "source": [
    "# Create dictionary containing word counts pers sms\n",
    "word_counts_per_sms = {unique_word: [0] * len(sms_training['SMS']) for unique_word in vocabulary}\n",
    "\n",
    "for index, sms in enumerate(sms_training['SMS']):\n",
    "    for word in sms:\n",
    "        word_counts_per_sms[word][index] += 1"
   ]
  },
  {
   "cell_type": "code",
   "execution_count": 11,
   "metadata": {},
   "outputs": [
    {
     "data": {
      "text/html": [
       "<div>\n",
       "<style scoped>\n",
       "    .dataframe tbody tr th:only-of-type {\n",
       "        vertical-align: middle;\n",
       "    }\n",
       "\n",
       "    .dataframe tbody tr th {\n",
       "        vertical-align: top;\n",
       "    }\n",
       "\n",
       "    .dataframe thead th {\n",
       "        text-align: right;\n",
       "    }\n",
       "</style>\n",
       "<table border=\"1\" class=\"dataframe\">\n",
       "  <thead>\n",
       "    <tr style=\"text-align: right;\">\n",
       "      <th></th>\n",
       "      <th>sane</th>\n",
       "      <th>nw</th>\n",
       "      <th>photos</th>\n",
       "      <th>auto</th>\n",
       "      <th>24m</th>\n",
       "      <th>woods</th>\n",
       "      <th>starer</th>\n",
       "      <th>pei</th>\n",
       "      <th>attitude</th>\n",
       "      <th>burning</th>\n",
       "      <th>...</th>\n",
       "      <th>139</th>\n",
       "      <th>created</th>\n",
       "      <th>09099725823</th>\n",
       "      <th>2mwen</th>\n",
       "      <th>audiitions</th>\n",
       "      <th>owned</th>\n",
       "      <th>yourself</th>\n",
       "      <th>feels</th>\n",
       "      <th>heavy</th>\n",
       "      <th>anymore</th>\n",
       "    </tr>\n",
       "  </thead>\n",
       "  <tbody>\n",
       "    <tr>\n",
       "      <td>0</td>\n",
       "      <td>0</td>\n",
       "      <td>0</td>\n",
       "      <td>0</td>\n",
       "      <td>0</td>\n",
       "      <td>0</td>\n",
       "      <td>0</td>\n",
       "      <td>0</td>\n",
       "      <td>0</td>\n",
       "      <td>0</td>\n",
       "      <td>0</td>\n",
       "      <td>...</td>\n",
       "      <td>0</td>\n",
       "      <td>0</td>\n",
       "      <td>0</td>\n",
       "      <td>0</td>\n",
       "      <td>0</td>\n",
       "      <td>0</td>\n",
       "      <td>0</td>\n",
       "      <td>0</td>\n",
       "      <td>0</td>\n",
       "      <td>0</td>\n",
       "    </tr>\n",
       "    <tr>\n",
       "      <td>1</td>\n",
       "      <td>0</td>\n",
       "      <td>0</td>\n",
       "      <td>0</td>\n",
       "      <td>0</td>\n",
       "      <td>0</td>\n",
       "      <td>0</td>\n",
       "      <td>0</td>\n",
       "      <td>0</td>\n",
       "      <td>0</td>\n",
       "      <td>0</td>\n",
       "      <td>...</td>\n",
       "      <td>0</td>\n",
       "      <td>0</td>\n",
       "      <td>0</td>\n",
       "      <td>0</td>\n",
       "      <td>0</td>\n",
       "      <td>0</td>\n",
       "      <td>0</td>\n",
       "      <td>0</td>\n",
       "      <td>0</td>\n",
       "      <td>0</td>\n",
       "    </tr>\n",
       "    <tr>\n",
       "      <td>2</td>\n",
       "      <td>0</td>\n",
       "      <td>0</td>\n",
       "      <td>0</td>\n",
       "      <td>0</td>\n",
       "      <td>0</td>\n",
       "      <td>0</td>\n",
       "      <td>0</td>\n",
       "      <td>0</td>\n",
       "      <td>0</td>\n",
       "      <td>0</td>\n",
       "      <td>...</td>\n",
       "      <td>0</td>\n",
       "      <td>0</td>\n",
       "      <td>0</td>\n",
       "      <td>0</td>\n",
       "      <td>0</td>\n",
       "      <td>0</td>\n",
       "      <td>0</td>\n",
       "      <td>0</td>\n",
       "      <td>0</td>\n",
       "      <td>0</td>\n",
       "    </tr>\n",
       "    <tr>\n",
       "      <td>3</td>\n",
       "      <td>0</td>\n",
       "      <td>0</td>\n",
       "      <td>0</td>\n",
       "      <td>0</td>\n",
       "      <td>0</td>\n",
       "      <td>0</td>\n",
       "      <td>0</td>\n",
       "      <td>0</td>\n",
       "      <td>0</td>\n",
       "      <td>0</td>\n",
       "      <td>...</td>\n",
       "      <td>0</td>\n",
       "      <td>0</td>\n",
       "      <td>0</td>\n",
       "      <td>0</td>\n",
       "      <td>0</td>\n",
       "      <td>0</td>\n",
       "      <td>0</td>\n",
       "      <td>0</td>\n",
       "      <td>0</td>\n",
       "      <td>0</td>\n",
       "    </tr>\n",
       "    <tr>\n",
       "      <td>4</td>\n",
       "      <td>0</td>\n",
       "      <td>0</td>\n",
       "      <td>0</td>\n",
       "      <td>0</td>\n",
       "      <td>0</td>\n",
       "      <td>0</td>\n",
       "      <td>0</td>\n",
       "      <td>0</td>\n",
       "      <td>0</td>\n",
       "      <td>0</td>\n",
       "      <td>...</td>\n",
       "      <td>0</td>\n",
       "      <td>0</td>\n",
       "      <td>0</td>\n",
       "      <td>0</td>\n",
       "      <td>0</td>\n",
       "      <td>0</td>\n",
       "      <td>0</td>\n",
       "      <td>0</td>\n",
       "      <td>0</td>\n",
       "      <td>0</td>\n",
       "    </tr>\n",
       "  </tbody>\n",
       "</table>\n",
       "<p>5 rows × 7783 columns</p>\n",
       "</div>"
      ],
      "text/plain": [
       "   sane  nw  photos  auto  24m  woods  starer  pei  attitude  burning  ...  \\\n",
       "0     0   0       0     0    0      0       0    0         0        0  ...   \n",
       "1     0   0       0     0    0      0       0    0         0        0  ...   \n",
       "2     0   0       0     0    0      0       0    0         0        0  ...   \n",
       "3     0   0       0     0    0      0       0    0         0        0  ...   \n",
       "4     0   0       0     0    0      0       0    0         0        0  ...   \n",
       "\n",
       "   139  created  09099725823  2mwen  audiitions  owned  yourself  feels  \\\n",
       "0    0        0            0      0           0      0         0      0   \n",
       "1    0        0            0      0           0      0         0      0   \n",
       "2    0        0            0      0           0      0         0      0   \n",
       "3    0        0            0      0           0      0         0      0   \n",
       "4    0        0            0      0           0      0         0      0   \n",
       "\n",
       "   heavy  anymore  \n",
       "0      0        0  \n",
       "1      0        0  \n",
       "2      0        0  \n",
       "3      0        0  \n",
       "4      0        0  \n",
       "\n",
       "[5 rows x 7783 columns]"
      ]
     },
     "execution_count": 11,
     "metadata": {},
     "output_type": "execute_result"
    }
   ],
   "source": [
    "# Transform dictionary into dataframe\n",
    "word_counts_df = pd.DataFrame(word_counts_per_sms)\n",
    "word_counts_df.head()"
   ]
  },
  {
   "cell_type": "code",
   "execution_count": 12,
   "metadata": {},
   "outputs": [
    {
     "data": {
      "text/html": [
       "<div>\n",
       "<style scoped>\n",
       "    .dataframe tbody tr th:only-of-type {\n",
       "        vertical-align: middle;\n",
       "    }\n",
       "\n",
       "    .dataframe tbody tr th {\n",
       "        vertical-align: top;\n",
       "    }\n",
       "\n",
       "    .dataframe thead th {\n",
       "        text-align: right;\n",
       "    }\n",
       "</style>\n",
       "<table border=\"1\" class=\"dataframe\">\n",
       "  <thead>\n",
       "    <tr style=\"text-align: right;\">\n",
       "      <th></th>\n",
       "      <th>Label</th>\n",
       "      <th>SMS</th>\n",
       "      <th>sane</th>\n",
       "      <th>nw</th>\n",
       "      <th>photos</th>\n",
       "      <th>auto</th>\n",
       "      <th>24m</th>\n",
       "      <th>woods</th>\n",
       "      <th>starer</th>\n",
       "      <th>pei</th>\n",
       "      <th>...</th>\n",
       "      <th>139</th>\n",
       "      <th>created</th>\n",
       "      <th>09099725823</th>\n",
       "      <th>2mwen</th>\n",
       "      <th>audiitions</th>\n",
       "      <th>owned</th>\n",
       "      <th>yourself</th>\n",
       "      <th>feels</th>\n",
       "      <th>heavy</th>\n",
       "      <th>anymore</th>\n",
       "    </tr>\n",
       "  </thead>\n",
       "  <tbody>\n",
       "    <tr>\n",
       "      <td>0</td>\n",
       "      <td>ham</td>\n",
       "      <td>[yep, by, the, pretty, sculpture]</td>\n",
       "      <td>0</td>\n",
       "      <td>0</td>\n",
       "      <td>0</td>\n",
       "      <td>0</td>\n",
       "      <td>0</td>\n",
       "      <td>0</td>\n",
       "      <td>0</td>\n",
       "      <td>0</td>\n",
       "      <td>...</td>\n",
       "      <td>0</td>\n",
       "      <td>0</td>\n",
       "      <td>0</td>\n",
       "      <td>0</td>\n",
       "      <td>0</td>\n",
       "      <td>0</td>\n",
       "      <td>0</td>\n",
       "      <td>0</td>\n",
       "      <td>0</td>\n",
       "      <td>0</td>\n",
       "    </tr>\n",
       "    <tr>\n",
       "      <td>1</td>\n",
       "      <td>ham</td>\n",
       "      <td>[yes, princess, are, you, going, to, make, me,...</td>\n",
       "      <td>0</td>\n",
       "      <td>0</td>\n",
       "      <td>0</td>\n",
       "      <td>0</td>\n",
       "      <td>0</td>\n",
       "      <td>0</td>\n",
       "      <td>0</td>\n",
       "      <td>0</td>\n",
       "      <td>...</td>\n",
       "      <td>0</td>\n",
       "      <td>0</td>\n",
       "      <td>0</td>\n",
       "      <td>0</td>\n",
       "      <td>0</td>\n",
       "      <td>0</td>\n",
       "      <td>0</td>\n",
       "      <td>0</td>\n",
       "      <td>0</td>\n",
       "      <td>0</td>\n",
       "    </tr>\n",
       "    <tr>\n",
       "      <td>2</td>\n",
       "      <td>ham</td>\n",
       "      <td>[welp, apparently, he, retired]</td>\n",
       "      <td>0</td>\n",
       "      <td>0</td>\n",
       "      <td>0</td>\n",
       "      <td>0</td>\n",
       "      <td>0</td>\n",
       "      <td>0</td>\n",
       "      <td>0</td>\n",
       "      <td>0</td>\n",
       "      <td>...</td>\n",
       "      <td>0</td>\n",
       "      <td>0</td>\n",
       "      <td>0</td>\n",
       "      <td>0</td>\n",
       "      <td>0</td>\n",
       "      <td>0</td>\n",
       "      <td>0</td>\n",
       "      <td>0</td>\n",
       "      <td>0</td>\n",
       "      <td>0</td>\n",
       "    </tr>\n",
       "    <tr>\n",
       "      <td>3</td>\n",
       "      <td>ham</td>\n",
       "      <td>[havent]</td>\n",
       "      <td>0</td>\n",
       "      <td>0</td>\n",
       "      <td>0</td>\n",
       "      <td>0</td>\n",
       "      <td>0</td>\n",
       "      <td>0</td>\n",
       "      <td>0</td>\n",
       "      <td>0</td>\n",
       "      <td>...</td>\n",
       "      <td>0</td>\n",
       "      <td>0</td>\n",
       "      <td>0</td>\n",
       "      <td>0</td>\n",
       "      <td>0</td>\n",
       "      <td>0</td>\n",
       "      <td>0</td>\n",
       "      <td>0</td>\n",
       "      <td>0</td>\n",
       "      <td>0</td>\n",
       "    </tr>\n",
       "    <tr>\n",
       "      <td>4</td>\n",
       "      <td>ham</td>\n",
       "      <td>[i, forgot, 2, ask, ü, all, smth, there, s, a,...</td>\n",
       "      <td>0</td>\n",
       "      <td>0</td>\n",
       "      <td>0</td>\n",
       "      <td>0</td>\n",
       "      <td>0</td>\n",
       "      <td>0</td>\n",
       "      <td>0</td>\n",
       "      <td>0</td>\n",
       "      <td>...</td>\n",
       "      <td>0</td>\n",
       "      <td>0</td>\n",
       "      <td>0</td>\n",
       "      <td>0</td>\n",
       "      <td>0</td>\n",
       "      <td>0</td>\n",
       "      <td>0</td>\n",
       "      <td>0</td>\n",
       "      <td>0</td>\n",
       "      <td>0</td>\n",
       "    </tr>\n",
       "  </tbody>\n",
       "</table>\n",
       "<p>5 rows × 7785 columns</p>\n",
       "</div>"
      ],
      "text/plain": [
       "  Label                                                SMS  sane  nw  photos  \\\n",
       "0   ham                  [yep, by, the, pretty, sculpture]     0   0       0   \n",
       "1   ham  [yes, princess, are, you, going, to, make, me,...     0   0       0   \n",
       "2   ham                    [welp, apparently, he, retired]     0   0       0   \n",
       "3   ham                                           [havent]     0   0       0   \n",
       "4   ham  [i, forgot, 2, ask, ü, all, smth, there, s, a,...     0   0       0   \n",
       "\n",
       "   auto  24m  woods  starer  pei  ...  139  created  09099725823  2mwen  \\\n",
       "0     0    0      0       0    0  ...    0        0            0      0   \n",
       "1     0    0      0       0    0  ...    0        0            0      0   \n",
       "2     0    0      0       0    0  ...    0        0            0      0   \n",
       "3     0    0      0       0    0  ...    0        0            0      0   \n",
       "4     0    0      0       0    0  ...    0        0            0      0   \n",
       "\n",
       "   audiitions  owned  yourself  feels  heavy  anymore  \n",
       "0           0      0         0      0      0        0  \n",
       "1           0      0         0      0      0        0  \n",
       "2           0      0         0      0      0        0  \n",
       "3           0      0         0      0      0        0  \n",
       "4           0      0         0      0      0        0  \n",
       "\n",
       "[5 rows x 7785 columns]"
      ]
     },
     "execution_count": 12,
     "metadata": {},
     "output_type": "execute_result"
    }
   ],
   "source": [
    "# Concat word_counts_df with sms_training\n",
    "sms_training_final = pd.concat([sms_training, word_counts_df], axis=1)\n",
    "sms_training_final.head()"
   ]
  },
  {
   "attachments": {
    "Screen%20Shot%202020-04-30%20at%201.15.42%20pm.png": {
     "image/png": "[encoded data removed]"
    },
    "Screen%20Shot%202020-04-30%20at%201.16.03%20pm.png": {
     "image/png": "[encoded data removed]"
    }
   },
   "cell_type": "markdown",
   "metadata": {},
   "source": [
    "# Calculate Constants\n",
    "\n",
    "We've now finished cleaning the dataset and can commence creating the spam filter. The Naive Bayes algorithm will need to answer these two probability questions to be able to classify new messages:\n",
    "\n",
    "![Screen%20Shot%202020-04-30%20at%201.15.42%20pm.png](attachment:Screen%20Shot%202020-04-30%20at%201.15.42%20pm.png)\n",
    "\n",
    "Also, to calculate $P(w_i|Spam)$ and $P(w_i|Ham)$ inside the formulas above, we'll need to use these equations:\n",
    "\n",
    "![Screen%20Shot%202020-04-30%20at%201.16.03%20pm.png](attachment:Screen%20Shot%202020-04-30%20at%201.16.03%20pm.png)\n",
    "\n",
    "Lets start by calculating the following constants:\n",
    "- P(Spam): Probability of the message being spam.\n",
    "- P(Ham): Probability of the message not being spam.\n",
    "- N_Spam: Number of words in all the spam messages.\n",
    "- N_Ham: Number of words in all the non-spam messages.\n",
    "- N_Vocabulary: Number of unique words in the vocabulary.\n",
    "\n",
    "We'll also use Laplace smoothing and set $\\alpha = 1$."
   ]
  },
  {
   "cell_type": "code",
   "execution_count": 13,
   "metadata": {},
   "outputs": [
    {
     "name": "stdout",
     "output_type": "stream",
     "text": [
      "0.13458950201884254\n",
      "0.8654104979811574\n"
     ]
    }
   ],
   "source": [
    "# Calculate P(Spam)\n",
    "p_spam = len(sms_training_final[sms_training_final[\"Label\"] == 'spam'])/len(sms_training_final)\n",
    "# Calculate P(Ham)\n",
    "p_ham = len(sms_training_final[sms_training_final[\"Label\"] == 'ham'])/len(sms_training_final)\n",
    "\n",
    "#Check values\n",
    "print(p_spam)\n",
    "print(p_ham)"
   ]
  },
  {
   "cell_type": "code",
   "execution_count": 14,
   "metadata": {},
   "outputs": [],
   "source": [
    "# Calculate N_Spam\n",
    "n_spam = 0\n",
    "for sms in sms_training_final[\"SMS\"][sms_training_final[\"Label\"] == 'spam']:\n",
    "    for word in sms:\n",
    "        if word != \" \":\n",
    "            n_spam += 1\n",
    "            \n",
    "# Calculate N_Ham)\n",
    "n_ham = 0\n",
    "for sms in sms_training_final[\"SMS\"][sms_training_final[\"Label\"] == 'ham']:\n",
    "    for word in sms:\n",
    "        if word != \" \":\n",
    "            n_ham += 1\n",
    "            \n",
    "# Calculate N_Vocabulary)\n",
    "n_vocabulary = len(vocabulary)\n",
    "\n",
    "# Laplace smoothing\n",
    "alpha = 1"
   ]
  },
  {
   "attachments": {
    "Screen%20Shot%202020-04-30%20at%202.19.02%20pm.png": {
     "image/png": "[encoded data removed]"
    }
   },
   "cell_type": "markdown",
   "metadata": {},
   "source": [
    "# Calculate Parameters\n",
    "\n",
    "Now that we have the constant terms calculated above, we can move on to calculating the parameters $P(w_i|Spam)$ and $P(w_i|Ham)$. Each parameter will thus be a conditional probability value associated with each word in the vocabulary.\n",
    "\n",
    "The parameters are calculated using the formulas:\n",
    "\n",
    "![Screen%20Shot%202020-04-30%20at%202.19.02%20pm.png](attachment:Screen%20Shot%202020-04-30%20at%202.19.02%20pm.png)"
   ]
  },
  {
   "cell_type": "code",
   "execution_count": 16,
   "metadata": {},
   "outputs": [],
   "source": [
    "# Initialise two dictionaries\n",
    "parameters_spam = {}\n",
    "parameters_ham = {}\n",
    "for word in vocabulary:\n",
    "    key = word\n",
    "    value = 0\n",
    "    parameters_spam[key] = value\n",
    "    parameters_ham[key] = value"
   ]
  },
  {
   "cell_type": "code",
   "execution_count": 17,
   "metadata": {},
   "outputs": [],
   "source": [
    "# Isolate spam and the ham messages into two different dataframes\n",
    "spam_messages = pd.DataFrame(sms_training_final[sms_training_final[\"Label\"] == \"spam\"])\n",
    "ham_messages = pd.DataFrame(sms_training_final[sms_training_final[\"Label\"] == \"ham\"])"
   ]
  },
  {
   "cell_type": "code",
   "execution_count": 18,
   "metadata": {},
   "outputs": [],
   "source": [
    "# Iterate over vocabulary calculate P(wi|Spam) and P(wi|Ham) \n",
    "for word in vocabulary:\n",
    "    n_w_given_spam = spam_messages[word].sum()\n",
    "    p_w_given_spam = (n_w_given_spam + alpha) / (n_spam + alpha*n_vocabulary)\n",
    "    parameters_spam[word] = p_w_given_spam\n",
    "    \n",
    "    n_w_given_ham = ham_messages[word].sum()\n",
    "    p_w_given_ham = (n_w_given_ham + alpha) / (n_ham + alpha*n_vocabulary)\n",
    "    parameters_ham[word] = p_w_given_ham"
   ]
  },
  {
   "attachments": {},
   "cell_type": "markdown",
   "metadata": {},
   "source": [
    "# Write Spam Filter Function\n",
    "\n",
    "The spam filter can be understood as a function that operates as follows:\n",
    "\n",
    "- Takes in as input a new message (w1, w2, ..., wn);\n",
    "- Calculates P(Spam|w1, w2, ..., wn) and P(Ham|w1, w2, ..., wn);\n",
    "- Compares the values of P(Spam|w1, w2, ..., wn) and P(Ham|w1, w2, ..., wn); and:\n",
    "    - If P(Ham|w1, w2, ..., wn) > P(Spam|w1, w2, ..., wn), then the message is classified as ham;\n",
    "    - If P(Ham|w1, w2, ..., wn) < P(Spam|w1, w2, ..., wn), then the message is classified as spam;\n",
    "    - If P(Ham|w1, w2, ..., wn) = P(Spam|w1, w2, ..., wn), then the algorithm may request human help.\n",
    "\n",
    "Lets begin writing the function."
   ]
  },
  {
   "cell_type": "code",
   "execution_count": 19,
   "metadata": {},
   "outputs": [],
   "source": [
    "# Import re\n",
    "import re\n",
    "# Define spam classification function\n",
    "def classify(message):\n",
    "\n",
    "    message = re.sub('\\W', ' ', message)\n",
    "    message = message.lower()\n",
    "    message = message.split()\n",
    "\n",
    "    p_spam_given_message = p_spam\n",
    "    p_ham_given_message = p_ham\n",
    "    \n",
    "    for word in message:\n",
    "        if word in parameters_spam:\n",
    "            p_spam_given_message *= parameters_spam[word]\n",
    "        if word in parameters_ham:\n",
    "            p_ham_given_message *= parameters_ham[word]\n",
    "            \n",
    "    print('P(Spam|message):', p_spam_given_message)\n",
    "    print('P(Ham|message):', p_ham_given_message)\n",
    "\n",
    "    if p_ham_given_message > p_spam_given_message:\n",
    "        print('Label: Ham')\n",
    "    elif p_ham_given_message < p_spam_given_message:\n",
    "        print('Label: Spam')\n",
    "    else:\n",
    "        print('Equal proabilities, have a human classify this!')"
   ]
  },
  {
   "cell_type": "code",
   "execution_count": 20,
   "metadata": {},
   "outputs": [
    {
     "name": "stdout",
     "output_type": "stream",
     "text": [
      "P(Spam|message): 1.3481290211300841e-25\n",
      "P(Ham|message): 1.9368049028589875e-27\n",
      "Label: Spam\n",
      "\n",
      "\n",
      "P(Spam|message): 2.4372375665888117e-25\n",
      "P(Ham|message): 3.687530435009238e-21\n",
      "Label: Ham\n"
     ]
    }
   ],
   "source": [
    "# Test function\n",
    "known_spam = classify('WINNER!! This is the secret code to unlock the money: C3421.')\n",
    "print('\\n')\n",
    "known_non_spam = classify(\"Sounds good, Tom, then see u there\")"
   ]
  },
  {
   "cell_type": "markdown",
   "metadata": {},
   "source": [
    "The spam filter appears to be working as intended.\n",
    "\n",
    "# Apply Spam Filter to Test Data\n",
    "\n",
    "We'll now try to determine how well the spam filter does on our test set of 1,114 messages. The algorithm will output a classification label for every message in our test set, which we'll be able to compare with the actual label (given by a human). "
   ]
  },
  {
   "cell_type": "code",
   "execution_count": 21,
   "metadata": {},
   "outputs": [],
   "source": [
    "# Modify function to return label instead of print\n",
    "def classify_test_set(message):\n",
    "\n",
    "    message = re.sub('\\W', ' ', message)\n",
    "    message = message.lower()\n",
    "    message = message.split()\n",
    "\n",
    "    p_spam_given_message = p_spam\n",
    "    p_ham_given_message = p_ham\n",
    "    \n",
    "    for word in message:\n",
    "        if word in parameters_spam:\n",
    "            p_spam_given_message *= parameters_spam[word]\n",
    "        if word in parameters_ham:\n",
    "            p_ham_given_message *= parameters_ham[word]\n",
    "\n",
    "    if p_ham_given_message > p_spam_given_message:\n",
    "        return 'ham'\n",
    "    elif p_ham_given_message < p_spam_given_message:\n",
    "        return 'spam'\n",
    "    else:\n",
    "        return 'needs human classification'"
   ]
  },
  {
   "cell_type": "code",
   "execution_count": 22,
   "metadata": {},
   "outputs": [
    {
     "data": {
      "text/html": [
       "<div>\n",
       "<style scoped>\n",
       "    .dataframe tbody tr th:only-of-type {\n",
       "        vertical-align: middle;\n",
       "    }\n",
       "\n",
       "    .dataframe tbody tr th {\n",
       "        vertical-align: top;\n",
       "    }\n",
       "\n",
       "    .dataframe thead th {\n",
       "        text-align: right;\n",
       "    }\n",
       "</style>\n",
       "<table border=\"1\" class=\"dataframe\">\n",
       "  <thead>\n",
       "    <tr style=\"text-align: right;\">\n",
       "      <th></th>\n",
       "      <th>Label</th>\n",
       "      <th>SMS</th>\n",
       "      <th>Predicted</th>\n",
       "    </tr>\n",
       "  </thead>\n",
       "  <tbody>\n",
       "    <tr>\n",
       "      <td>0</td>\n",
       "      <td>ham</td>\n",
       "      <td>Later i guess. I needa do mcat study too.</td>\n",
       "      <td>ham</td>\n",
       "    </tr>\n",
       "    <tr>\n",
       "      <td>1</td>\n",
       "      <td>ham</td>\n",
       "      <td>But i haf enuff space got like 4 mb...</td>\n",
       "      <td>ham</td>\n",
       "    </tr>\n",
       "    <tr>\n",
       "      <td>2</td>\n",
       "      <td>spam</td>\n",
       "      <td>Had your mobile 10 mths? Update to latest Oran...</td>\n",
       "      <td>spam</td>\n",
       "    </tr>\n",
       "    <tr>\n",
       "      <td>3</td>\n",
       "      <td>ham</td>\n",
       "      <td>All sounds good. Fingers . Makes it difficult ...</td>\n",
       "      <td>ham</td>\n",
       "    </tr>\n",
       "    <tr>\n",
       "      <td>4</td>\n",
       "      <td>ham</td>\n",
       "      <td>All done, all handed in. Don't know if mega sh...</td>\n",
       "      <td>ham</td>\n",
       "    </tr>\n",
       "  </tbody>\n",
       "</table>\n",
       "</div>"
      ],
      "text/plain": [
       "  Label                                                SMS Predicted\n",
       "0   ham          Later i guess. I needa do mcat study too.       ham\n",
       "1   ham             But i haf enuff space got like 4 mb...       ham\n",
       "2  spam  Had your mobile 10 mths? Update to latest Oran...      spam\n",
       "3   ham  All sounds good. Fingers . Makes it difficult ...       ham\n",
       "4   ham  All done, all handed in. Don't know if mega sh...       ham"
      ]
     },
     "execution_count": 22,
     "metadata": {},
     "output_type": "execute_result"
    }
   ],
   "source": [
    "# Apply function to test data\n",
    "sms_test[\"Predicted\"] = sms_test[\"SMS\"].apply(classify_test_set)\n",
    "# Check\n",
    "sms_test.head()"
   ]
  },
  {
   "cell_type": "markdown",
   "metadata": {},
   "source": [
    "# Measure Accuracy of Spam Filter\n",
    "\n",
    "Our next step will be to measure the accuracy of spam filter. Remember, we want to the spam filter to get the classification right atleast 80% of the time."
   ]
  },
  {
   "cell_type": "code",
   "execution_count": 23,
   "metadata": {},
   "outputs": [
    {
     "name": "stdout",
     "output_type": "stream",
     "text": [
      "98.74326750448833\n"
     ]
    }
   ],
   "source": [
    "# Measure the accuracy of the spam filter\n",
    "correct = 0\n",
    "total = len(sms_test)\n",
    "for row in sms_test.iterrows():\n",
    "    row = row[1]\n",
    "    if row[\"Label\"] == row[\"Predicted\"]:\n",
    "        correct += 1\n",
    "        \n",
    "accuracy = (correct/total)*100\n",
    "print(accuracy)"
   ]
  },
  {
   "cell_type": "markdown",
   "metadata": {},
   "source": [
    "The accuracy is close to 98.74%, which is really good. Our spam filter looked at 1114 messages that it hasn't seen in training, and classified 1100 correctly.\n",
    "\n",
    "# Next Steps\n",
    "\n",
    "In this project, we managed to build a spam filter for SMS messages using the multinomial Naive Bayes algorithm. The filter had an accuracy of 98.74% on the test set we used, which is a pretty good result. Our initial goal was an accuracy of over 80%, and we managed to do way better than that.\n",
    "\n",
    "Next steps include:\n",
    "\n",
    "Analyze the 14 messages that were classified incorrectly and try to figure out why the algorithm classified them incorrectly\n",
    "Make the filtering process more complex by making the algorithm sensitive to letter case. "
   ]
  }
 ],
 "metadata": {
  "kernelspec": {
   "display_name": "Python 3",
   "language": "python",
   "name": "python3"
  },
  "language_info": {
   "codemirror_mode": {
    "name": "ipython",
    "version": 3
   },
   "file_extension": ".py",
   "mimetype": "text/x-python",
   "name": "python",
   "nbconvert_exporter": "python",
   "pygments_lexer": "ipython3",
   "version": "3.7.4"
  }
 },
 "nbformat": 4,
 "nbformat_minor": 2
}
